{
 "cells": [
  {
   "cell_type": "code",
   "execution_count": 1,
   "metadata": {},
   "outputs": [],
   "source": [
    "from hybri import Hybrizone, HybriParams, PolarPoint, AirData, AngleMode, CoordMode, BuildMode, CurveMode, InterpolationDomain\n",
    "import librosa as lb\n",
    "import numpy as np\n",
    "import pyaudio as pa\n",
    "# import time\n",
    "# from collections import deque\n",
    "# import scipy\n",
    "# from threading import Thread, Event\n",
    "# from queue import Queue\n",
    "# import hashlib\n",
    "# from concurrent.futures import ThreadPoolExecutor\n",
    "# from numpy.typing import NDArray\n"
   ]
  },
  {
   "cell_type": "code",
   "execution_count": 5,
   "metadata": {},
   "outputs": [],
   "source": [
    "\n",
    "HRIR_PATH = \"/Users/pm/AcaHub/Coding/BinauralSpatial/data/HRIR-KEMAR_DATASET.h5\"\n",
    "RIR_PATH = \"/Users/pm/AcaHub/Coding/BinauralSpatial/data/RIR-MIT_SURVEY.h5\"\n",
    "AUDIO_PATH = \"/Users/pm/AcaHub/AudioSamples/suzanne_mono.wav\"\n",
    "\n",
    "CHUNK = 1024\n",
    "SR = 44100\n",
    "CHANNELS = 2\n",
    "\n",
    "PARAMS = HybriParams(\n",
    "        hrir_database=HRIR_PATH, \n",
    "        rir_database=RIR_PATH, \n",
    "        coord_mode=CoordMode.REGULAR, \n",
    "        interp_domain=InterpolationDomain.FREQUENCY,\n",
    "        build_mode=BuildMode.LINEAR,\n",
    "        chunk_size=CHUNK,\n",
    "        interpolation_neighs=3\n",
    ")\n",
    "\n",
    "SIG, _ = lb.load(AUDIO_PATH, sr=SR)\n",
    "SIG_LIMIT = len(SIG)"
   ]
  },
  {
   "cell_type": "code",
   "execution_count": 6,
   "metadata": {},
   "outputs": [],
   "source": [
    "h = Hybrizone(params=PARAMS)\n",
    "\n",
    "air_conditions = AirData(temperature=20, humidity=0.5, pressure=101325.0)\n",
    "h.imposed_air_conditions(air_data=air_conditions)\n",
    "h.set_rirs(rir1=10, rir2=70, smooth_factor=0.1)"
   ]
  },
  {
   "cell_type": "code",
   "execution_count": null,
   "metadata": {},
   "outputs": [
    {
     "name": "stdout",
     "output_type": "stream",
     "text": [
      "[INFO] SPACE PROCESS STARTED!\n"
     ]
    },
    {
     "ename": "KeyboardInterrupt",
     "evalue": "",
     "output_type": "error",
     "traceback": [
      "\u001b[0;31m---------------------------------------------------------------------------\u001b[0m",
      "\u001b[0;31mKeyboardInterrupt\u001b[0m                         Traceback (most recent call last)",
      "Cell \u001b[0;32mIn[7], line 25\u001b[0m\n\u001b[1;32m     23\u001b[0m \u001b[38;5;28;01mif\u001b[39;00m kernels \u001b[38;5;129;01mis\u001b[39;00m \u001b[38;5;129;01mnot\u001b[39;00m \u001b[38;5;28;01mNone\u001b[39;00m:\n\u001b[1;32m     24\u001b[0m     convolved_frame \u001b[38;5;241m=\u001b[39m h\u001b[38;5;241m.\u001b[39mprocess_frame(frame\u001b[38;5;241m=\u001b[39mframe, kernels\u001b[38;5;241m=\u001b[39mkernels)\n\u001b[0;32m---> 25\u001b[0m     \u001b[43mstream\u001b[49m\u001b[38;5;241;43m.\u001b[39;49m\u001b[43mwrite\u001b[49m\u001b[43m(\u001b[49m\u001b[43mconvolved_frame\u001b[49m\u001b[38;5;241;43m.\u001b[39;49m\u001b[43mtobytes\u001b[49m\u001b[43m(\u001b[49m\u001b[43m)\u001b[49m\u001b[43m)\u001b[49m\n\u001b[1;32m     27\u001b[0m     mark \u001b[38;5;241m+\u001b[39m\u001b[38;5;241m=\u001b[39m CHUNK\n\u001b[1;32m     28\u001b[0m \u001b[38;5;28;01melse\u001b[39;00m:\n",
      "File \u001b[0;32m/opt/homebrew/Caskroom/miniforge/base/envs/hub/lib/python3.12/site-packages/pyaudio/__init__.py:550\u001b[0m, in \u001b[0;36mPyAudio.Stream.write\u001b[0;34m(self, frames, num_frames, exception_on_underflow)\u001b[0m\n\u001b[1;32m    547\u001b[0m     width \u001b[38;5;241m=\u001b[39m get_sample_size(\u001b[38;5;28mself\u001b[39m\u001b[38;5;241m.\u001b[39m_format)\n\u001b[1;32m    548\u001b[0m     num_frames \u001b[38;5;241m=\u001b[39m \u001b[38;5;28mint\u001b[39m(\u001b[38;5;28mlen\u001b[39m(frames) \u001b[38;5;241m/\u001b[39m (\u001b[38;5;28mself\u001b[39m\u001b[38;5;241m.\u001b[39m_channels \u001b[38;5;241m*\u001b[39m width))\n\u001b[0;32m--> 550\u001b[0m \u001b[43mpa\u001b[49m\u001b[38;5;241;43m.\u001b[39;49m\u001b[43mwrite_stream\u001b[49m\u001b[43m(\u001b[49m\u001b[38;5;28;43mself\u001b[39;49m\u001b[38;5;241;43m.\u001b[39;49m\u001b[43m_stream\u001b[49m\u001b[43m,\u001b[49m\u001b[43m \u001b[49m\u001b[43mframes\u001b[49m\u001b[43m,\u001b[49m\u001b[43m \u001b[49m\u001b[43mnum_frames\u001b[49m\u001b[43m,\u001b[49m\n\u001b[1;32m    551\u001b[0m \u001b[43m                \u001b[49m\u001b[43mexception_on_underflow\u001b[49m\u001b[43m)\u001b[49m\n",
      "\u001b[0;31mKeyboardInterrupt\u001b[0m: "
     ]
    }
   ],
   "source": [
    "h.start_space_data_process()\n",
    "\n",
    "p = pa.PyAudio()\n",
    "stream = p.open(format=pa.paFloat32, channels=2, rate=SR, output=True, frames_per_buffer=CHUNK)\n",
    "stream.start_stream()\n",
    "\n",
    "mark = 0\n",
    "while True:\n",
    "    \n",
    "    if mark >= SIG_LIMIT:\n",
    "        h.close()\n",
    "        break\n",
    "    \n",
    "    end = min(mark + CHUNK, SIG_LIMIT - 1)\n",
    "    frame = SIG[mark:end]\n",
    "    \n",
    "    pos = PolarPoint(rho=1.7, phi=20, theta=60, opt=AngleMode.DEGREE)\n",
    "    h.set_position(position=pos)\n",
    "    h.set_morph_data(direction=0.5, morph_curve=CurveMode.SIGMOID)\n",
    "    \n",
    "    kernels = h.get_rir_and_hrir()\n",
    "    if kernels is not None:\n",
    "        convolved_frame = h.process_frame(frame=frame, kernels=kernels)\n",
    "        stream.write(convolved_frame.tobytes())\n",
    "        \n",
    "        mark += CHUNK\n",
    "    else:\n",
    "        stream.write(np.zeros((CHUNK, 2), dtype=np.float32).tobytes())\n",
    "        \n",
    "while True:\n",
    "    try:\n",
    "        pass\n",
    "    except KeyboardInterrupt:\n",
    "        print(\"[INFO] Process blocked by user!\")\n",
    "        break\n",
    "\n",
    "stream.stop_stream()\n",
    "stream.close()\n",
    "p.terminate()"
   ]
  },
  {
   "cell_type": "code",
   "execution_count": null,
   "metadata": {},
   "outputs": [],
   "source": []
  }
 ],
 "metadata": {
  "kernelspec": {
   "display_name": "hub",
   "language": "python",
   "name": "python3"
  },
  "language_info": {
   "codemirror_mode": {
    "name": "ipython",
    "version": 3
   },
   "file_extension": ".py",
   "mimetype": "text/x-python",
   "name": "python",
   "nbconvert_exporter": "python",
   "pygments_lexer": "ipython3",
   "version": "3.12.9"
  }
 },
 "nbformat": 4,
 "nbformat_minor": 2
}
